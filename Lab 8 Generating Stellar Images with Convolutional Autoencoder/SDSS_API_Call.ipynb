{
  "nbformat": 4,
  "nbformat_minor": 0,
  "metadata": {
    "colab": {
      "provenance": [],
      "gpuType": "T4"
    },
    "kernelspec": {
      "name": "python3",
      "display_name": "Python 3"
    },
    "language_info": {
      "name": "python"
    },
    "accelerator": "GPU"
  },
  "cells": [
    {
      "cell_type": "code",
      "source": [
        "%matplotlib inline\n",
        "\n",
        "import numpy as np\n",
        "import matplotlib.pyplot as plt\n",
        "import torch\n",
        "from IPython.display import Image # For displaying images in colab jupyter cell\n",
        "from PIL import Image\n",
        "import io\n",
        "import pandas as pd"
      ],
      "metadata": {
        "id": "Q-jJq5w2U324"
      },
      "execution_count": null,
      "outputs": []
    },
    {
      "cell_type": "code",
      "source": [
        "data = pd.read_csv('star_classification.csv')\n",
        "data = data.drop(['obj_ID', 'run_ID', 'rerun_ID', 'cam_col', 'field_ID', 'spec_obj_ID', 'plate', 'MJD','fiber_ID'], axis=1)\n",
        "data = data.rename(columns={'class' : 'obj'})"
      ],
      "metadata": {
        "id": "50vs73uB0dGi"
      },
      "execution_count": null,
      "outputs": []
    },
    {
      "cell_type": "code",
      "source": [
        "# Segment data based on class, note df.loc preserves index of original dataframe\n",
        "galaxies = data.loc[data.obj=='GALAXY', ['alpha', 'delta', 'u', 'g', 'r', 'i', 'z', 'redshift']]\n",
        "qsos = data.loc[data.obj=='QSO', ['alpha', 'delta', 'u', 'g', 'r', 'i', 'z', 'redshift']]\n",
        "stars = data.loc[data.obj=='STAR', ['alpha', 'delta', 'u', 'g', 'r', 'i', 'z', 'redshift']]\n",
        "\n",
        "print(galaxies.shape, qsos.shape, stars.shape)"
      ],
      "metadata": {
        "colab": {
          "base_uri": "https://localhost:8080/"
        },
        "id": "u9U56V7t0gTQ",
        "outputId": "50ef1d40-d7e6-4d31-a8f5-9c3f5244047c"
      },
      "execution_count": null,
      "outputs": [
        {
          "output_type": "stream",
          "name": "stdout",
          "text": [
            "(59445, 8) (18961, 8) (21594, 8)\n"
          ]
        }
      ]
    },
    {
      "cell_type": "code",
      "source": [
        "input_spectra = stars.copy()"
      ],
      "metadata": {
        "id": "I86boREt0jEw"
      },
      "execution_count": null,
      "outputs": []
    },
    {
      "cell_type": "code",
      "execution_count": null,
      "metadata": {
        "id": "lV9Xjdz8UZFa"
      },
      "outputs": [],
      "source": [
        "import requests\n",
        "\n",
        "def get_color_image(ra, dec):\n",
        "    url = \"http://skyserver.sdss.org/dr16/SkyServerWS/ImgCutout/getjpeg\"\n",
        "    params = {\n",
        "        \"ra\": ra,\n",
        "        \"dec\": dec,\n",
        "        \"scale\": 0.1,\n",
        "        \"height\": 64,\n",
        "        \"width\": 64,\n",
        "        \"opt\": ''\n",
        "    }\n",
        "\n",
        "    try:\n",
        "        response = requests.get(url, params=params)\n",
        "        response.raise_for_status()  # Raise an exception for 4xx and 5xx status codes\n",
        "        return response.content  # Return the binary image data\n",
        "    except requests.exceptions.RequestException as e:\n",
        "        print(f\"Error fetching image: {e}\")\n",
        "        return None"
      ]
    },
    {
      "cell_type": "code",
      "source": [
        "def binary_to_rgb(image_binary):\n",
        "    # Convert binary image data to PIL Image object\n",
        "    pil_image = Image.open(io.BytesIO(image_binary))\n",
        "\n",
        "    # Convert PIL Image to numpy array\n",
        "    rgb_array = np.array(pil_image)\n",
        "\n",
        "    # If the image is grayscale, convert it to RGB by repeating the grayscale values along the third axis\n",
        "    if len(rgb_array.shape) == 2:\n",
        "        rgb_array = np.stack((rgb_array,) * 3, axis=-1)\n",
        "\n",
        "    return rgb_array"
      ],
      "metadata": {
        "id": "zt1dWgTMUm3q"
      },
      "execution_count": null,
      "outputs": []
    },
    {
      "cell_type": "code",
      "source": [
        "from google.colab import drive\n",
        "drive.mount('/content/drive')"
      ],
      "metadata": {
        "id": "uRJrLotN0KlB",
        "colab": {
          "base_uri": "https://localhost:8080/"
        },
        "outputId": "dd25aada-65c4-4d01-9fff-8199c0a27bd0"
      },
      "execution_count": null,
      "outputs": [
        {
          "output_type": "stream",
          "name": "stdout",
          "text": [
            "Mounted at /content/drive\n"
          ]
        }
      ]
    },
    {
      "cell_type": "markdown",
      "source": [
        "#### API Call One Image"
      ],
      "metadata": {
        "id": "oobtXbPL8ztT"
      }
    },
    {
      "cell_type": "code",
      "source": [
        "# EXAMPLE\n",
        "# alpha, delta values pasted from spectra Excel sheet\n",
        "ra = 135.6891066036\n",
        "dec = 32.4946318397087\n",
        "\n",
        "# Run both functions\n",
        "test_image_binary = get_color_image(ra=ra, dec=dec)\n",
        "test_image = binary_to_rgb(test_image_binary)"
      ],
      "metadata": {
        "id": "OEWNBFmK8otD"
      },
      "execution_count": null,
      "outputs": []
    },
    {
      "cell_type": "markdown",
      "source": [
        "#### API Call N Images"
      ],
      "metadata": {
        "id": "5BkE5GfP83Ao"
      }
    },
    {
      "cell_type": "code",
      "source": [
        "N = 2000\n",
        "\n",
        "for i in range(N):\n",
        "\n",
        "    # Define coordinates based off index\n",
        "    ra= input_spectra['alpha'][i]\n",
        "    dec = input_spectra['delta'][i]\n",
        "\n",
        "    # Define file name for image based off index\n",
        "    filename = 'image' + str(i)\n",
        "\n",
        "    # API call to retrieve image with particular coordinates\n",
        "    spectra_image = get_color_image(ra=ra, dec=dec)\n",
        "\n",
        "    # Save the image locally\n",
        "    with open('/content/drive/MyDrive/star_images/'+ filename +'.jpg', 'wb') as f:\n",
        "        f.write(spectra_image)\n"
      ],
      "metadata": {
        "id": "-e6yrT798nJc"
      },
      "execution_count": null,
      "outputs": []
    },
    {
      "cell_type": "markdown",
      "source": [
        "#### API Call N Images in Class"
      ],
      "metadata": {
        "id": "_0n8YF-m9Vmv"
      }
    },
    {
      "cell_type": "code",
      "source": [
        "N = 10000\n",
        "indices = np.array(input_spectra.index)\n",
        "indices[9999]"
      ],
      "metadata": {
        "colab": {
          "base_uri": "https://localhost:8080/"
        },
        "id": "ZpRmxJRMfB-i",
        "outputId": "2a1c60bf-b479-4ead-a2d1-e4c4f51321b5"
      },
      "execution_count": null,
      "outputs": [
        {
          "output_type": "execute_result",
          "data": {
            "text/plain": [
              "45500"
            ]
          },
          "metadata": {},
          "execution_count": 48
        }
      ]
    },
    {
      "cell_type": "code",
      "source": [
        "for i in indices[6277:N]:\n",
        "\n",
        "    ra = data['alpha'][i]\n",
        "    dec = data['delta'][i]\n",
        "\n",
        "    spectra_image = get_color_image(ra=ra, dec=dec)\n",
        "\n",
        "    with open('/content/drive/MyDrive/star_images/image'+ str(i) +'.jpg', 'wb') as f:\n",
        "        try:\n",
        "\n",
        "            f.write(spectra_image)\n",
        "\n",
        "        except TypeError:\n",
        "\n",
        "            spectra_image = get_color_image(ra=ra, dec=dec)\n",
        "            with open('/content/drive/MyDrive/star_images/image'+ str(i) +'.jpg', 'wb') as f:\n",
        "                f.write(spectra_image)"
      ],
      "metadata": {
        "id": "STikqxkIgfjS"
      },
      "execution_count": null,
      "outputs": []
    },
    {
      "cell_type": "code",
      "source": [],
      "metadata": {
        "id": "hCJ9FJACgJIQ"
      },
      "execution_count": null,
      "outputs": []
    }
  ]
}